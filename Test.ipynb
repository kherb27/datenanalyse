{
 "cells": [
  {
   "cell_type": "markdown",
   "id": "62126f26",
   "metadata": {},
   "source": [
    "# Widgets"
   ]
  },
  {
   "cell_type": "markdown",
   "id": "759bdc10",
   "metadata": {},
   "source": [
    "Häufig benötigen wir folgende Pakete:\n",
    "* **Numpy** ist ein fundamentales Paket für das wissenschaftliche Rechnen. [Dokumentation](https://docs.scipy.org/doc/numpy/reference/index.html), [DOI:10.1109/MCSE.2011.37](http://dx.doi.org/10.1109/MCSE.2011.37)\n",
    "* **Pandas** stellt nützliche Datenstrukturen bereit und ermöglich recht bequem den Import von CSV-Dateien. Dieses Paket kommt aus dem Data science Bereich. [Dokumentation](https://pandas.pydata.org/pandas-docs/stable/) \n",
    "* **Matplotlib** ermöglicht vielfältige graphische Darstellungen von Daten. [Dokumentation](https://matplotlib.org/contents.html), [DOI:10.1109/MCSE.2007.55](http://dx.doi.org/10.1109/MCSE.2007.55)"
   ]
  },
  {
   "cell_type": "code",
   "execution_count": 2,
   "id": "a23eee3b",
   "metadata": {},
   "outputs": [],
   "source": [
    "import numpy as np\n",
    "import pandas as pd\n",
    "import matplotlib.pyplot as plt\n",
    "import ipywidgets as wi"
   ]
  },
  {
   "cell_type": "markdown",
   "id": "06203519",
   "metadata": {},
   "source": [
    "## Analogon zu manipulate in Mathematica\n",
    "\n",
    "Die erste Möglichkeit definiert eine Funktion, die dann den Plot erzeugt."
   ]
  },
  {
   "cell_type": "code",
   "execution_count": 3,
   "id": "e572cfb6",
   "metadata": {},
   "outputs": [
    {
     "data": {
      "application/vnd.jupyter.widget-view+json": {
       "model_id": "3e6116271c0e40c5a0f7f4233935593a",
       "version_major": 2,
       "version_minor": 0
      },
      "text/plain": [
       "interactive(children=(FloatSlider(value=1.0, continuous_update=False, description='freq', max=10.0, min=1.0), …"
      ]
     },
     "metadata": {},
     "output_type": "display_data"
    }
   ],
   "source": [
    "x = np.linspace(0,1,200)\n",
    "plt.ion()\n",
    "def pltsin(freq):\n",
    "    plt.plot(x,np.sin(2*np.pi*freq*x))\n",
    "    plt.show()\n",
    "    return None\n",
    "\n",
    "a = wi.interact(pltsin, freq=wi.FloatSlider(min=1, max=10, step=0.1, continuous_update=False))"
   ]
  },
  {
   "cell_type": "code",
   "execution_count": null,
   "id": "a78adec2",
   "metadata": {},
   "outputs": [],
   "source": []
  }
 ],
 "metadata": {
  "kernelspec": {
   "display_name": "Python 3",
   "language": "python",
   "name": "python3"
  },
  "language_info": {
   "codemirror_mode": {
    "name": "ipython",
    "version": 3
   },
   "file_extension": ".py",
   "mimetype": "text/x-python",
   "name": "python",
   "nbconvert_exporter": "python",
   "pygments_lexer": "ipython3",
   "version": "3.7.7"
  }
 },
 "nbformat": 4,
 "nbformat_minor": 5
}
